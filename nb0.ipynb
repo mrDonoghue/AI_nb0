{
  "cells": [
    {
      "cell_type": "code",
      "execution_count": null,
      "metadata": {
        "id": "SNi53eKkeGyx"
      },
      "outputs": [],
      "source": [
        "#hide\n",
        "! [ -e /content ] && pip install -Uqq fastbook\n",
        "import fastbook\n",
        "fastbook.setup_book()"
      ]
    },
    {
      "cell_type": "code",
      "execution_count": null,
      "metadata": {
        "id": "RQxLBONDeGyz"
      },
      "outputs": [],
      "source": [
        "#hide\n",
        "from fastbook import *"
      ]
    },
    {
      "cell_type": "markdown",
      "metadata": {
        "id": "e971PmUMeGyz"
      },
      "source": [
        "# Computer vision\n",
        "## Image recognition"
      ]
    },
    {
      "cell_type": "code",
      "execution_count": null,
      "metadata": {
        "id": "3WGPfNC6eGy2"
      },
      "outputs": [],
      "source": [
        "# CLICK ME\n",
        "from fastai.vision.all import *\n",
        "path = untar_data(URLs.PETS)/'images'\n",
        "\n",
        "def is_cat(x): return x[0].isupper()\n",
        "dls = ImageDataLoaders.from_name_func(\n",
        "    path, get_image_files(path), valid_pct=0.2, seed=42,\n",
        "    label_func=is_cat, item_tfms=Resize(224))\n",
        "\n",
        "learn = vision_learner(dls, resnet34, metrics=error_rate)\n",
        "learn.fine_tune(1)"
      ]
    },
    {
      "cell_type": "code",
      "execution_count": null,
      "metadata": {
        "id": "IEAR5SfMeGy3"
      },
      "outputs": [],
      "source": [
        "uploader = widgets.FileUpload()\n",
        "uploader"
      ]
    },
    {
      "cell_type": "code",
      "execution_count": null,
      "metadata": {
        "id": "fo4B6IAjeGy3"
      },
      "outputs": [],
      "source": [
        "img = PILImage.create(uploader.data[-1])\n",
        "is_cat,_,probs = learn.predict(img)\n",
        "print(f\"Is this a cat?: {is_cat}.\")\n",
        "print(f\"Probability it's a cat: {probs[1].item():.6f}\")\n",
        "img.to_thumb(192)"
      ]
    },
    {
      "cell_type": "markdown",
      "source": [
        "# Try it out\n",
        "Try out a few images. Make sure to try a cat, a dog, and something that is neither.\n",
        "\n",
        "Can you find an image of a cat that the model gets wrong?\n",
        "\n",
        "Write down at least one observation you have:\n",
        "* TODO\n"
      ],
      "metadata": {
        "id": "amDJp8-mdtTx"
      }
    },
    {
      "cell_type": "code",
      "source": [
        "interp = ClassificationInterpretation.from_learner(learn)\n",
        "interp.plot_confusion_matrix()"
      ],
      "metadata": {
        "id": "Bv-YRaB13Es0"
      },
      "execution_count": null,
      "outputs": []
    },
    {
      "cell_type": "markdown",
      "source": [
        "# Analyze\n",
        "What does each cell of the confusion matrix above mean?\n",
        "* TODO\n",
        "\n",
        "Why would it be helpful to look at this confusion matrix instead of just the accuracy/error rate?\n",
        "* TODO\n"
      ],
      "metadata": {
        "id": "VRDn1nqfeCPj"
      }
    },
    {
      "cell_type": "code",
      "source": [
        "interp.plot_top_losses(10)"
      ],
      "metadata": {
        "id": "DQ1o4Lka4BFA"
      },
      "execution_count": null,
      "outputs": []
    },
    {
      "cell_type": "markdown",
      "source": [
        "# Analyze\n",
        "* Looking at the examples the model got wrong, can you think of any reason(s) it might be getting them wrong?\n",
        "  - TODO"
      ],
      "metadata": {
        "id": "zz3x6cyreYuz"
      }
    },
    {
      "cell_type": "markdown",
      "source": [
        "# Tabular data"
      ],
      "metadata": {
        "id": "e0V5Y-eyis4G"
      }
    },
    {
      "cell_type": "code",
      "execution_count": null,
      "metadata": {
        "id": "4OcuJWM3eGy6"
      },
      "outputs": [],
      "source": [
        "from fastai.tabular.all import *\n",
        "path = untar_data(URLs.ADULT_SAMPLE)\n",
        "\n",
        "dls = TabularDataLoaders.from_csv(path/'adult.csv', path=path, y_names=\"salary\",\n",
        "    cat_names = ['workclass', 'education', 'marital-status', 'occupation',\n",
        "                 'relationship', 'race'],\n",
        "    cont_names = ['age', 'fnlwgt', 'education-num'],\n",
        "    procs = [Categorify, FillMissing, Normalize])\n",
        "\n",
        "learn = tabular_learner(dls, metrics=accuracy)"
      ]
    },
    {
      "cell_type": "code",
      "execution_count": null,
      "metadata": {
        "id": "WIlnXdkweGy6"
      },
      "outputs": [],
      "source": [
        "learn.fit_one_cycle(3)"
      ]
    },
    {
      "cell_type": "code",
      "source": [
        "learn.show_results(max_n=5)"
      ],
      "metadata": {
        "id": "C1qKq28CtuUw"
      },
      "execution_count": null,
      "outputs": []
    },
    {
      "cell_type": "code",
      "source": [
        "interp = ClassificationInterpretation.from_learner(learn)\n",
        "interp.plot_confusion_matrix()"
      ],
      "metadata": {
        "id": "jccfaTVFuSND"
      },
      "execution_count": null,
      "outputs": []
    },
    {
      "cell_type": "markdown",
      "source": [
        "## Dataset\n",
        "Go [here](https://archive.ics.uci.edu/ml/datasets/Adult) to read a bit about the original (less processed) dataset.\n",
        "\n"
      ],
      "metadata": {
        "id": "jKYNuidN_Ewm"
      }
    },
    {
      "cell_type": "markdown",
      "source": [
        "# Collaborative filtering (recommendation)"
      ],
      "metadata": {
        "id": "yCfTS1FE_crx"
      }
    },
    {
      "cell_type": "code",
      "execution_count": null,
      "metadata": {
        "id": "oXb9pSAleGy6"
      },
      "outputs": [],
      "source": [
        "from fastai.collab import *\n",
        "path = untar_data(URLs.ML_SAMPLE)\n",
        "dls = CollabDataLoaders.from_csv(path/'ratings.csv')\n",
        "learn = collab_learner(dls, y_range=(0.5,5.5))\n",
        "learn.fine_tune(10)"
      ]
    },
    {
      "cell_type": "code",
      "execution_count": null,
      "metadata": {
        "id": "ig-IbhLNeGy6"
      },
      "outputs": [],
      "source": [
        "learn.show_results()"
      ]
    },
    {
      "cell_type": "markdown",
      "source": [
        "## Dataset\n",
        "* [MovieLens Dataset](https://dl.acm.org/doi/10.1145/2827872)"
      ],
      "metadata": {
        "id": "2wZCA_zp_hvW"
      }
    },
    {
      "cell_type": "markdown",
      "source": [
        "# Vocab\n",
        "* model: TODO\n",
        "* architecture: TODO\n",
        "* training: TODO\n",
        "* fitting: TODO\n",
        "* prediction: TODO\n",
        "* inference: TODO\n",
        "* testing: TODO\n",
        "* training data: TODO\n",
        "* validation data: TODO"
      ],
      "metadata": {
        "id": "KbkukU1fevzD"
      }
    },
    {
      "cell_type": "markdown",
      "source": [
        "# Big ideas\n",
        "* What do you need to make machine learning possible?\n",
        "  - TODO\n",
        "  - TODO\n",
        "  - TODO\n",
        "* What are some reasons that we should be careful when using machine learning in a way that affects real human beings?\n",
        "  - TODO"
      ],
      "metadata": {
        "id": "DFgrJx2LfE2H"
      }
    }
  ],
  "metadata": {
    "jupytext": {
      "split_at_heading": true
    },
    "kernelspec": {
      "display_name": "Python 3 (ipykernel)",
      "language": "python",
      "name": "python3"
    },
    "colab": {
      "provenance": []
    },
    "accelerator": "GPU",
    "gpuClass": "standard"
  },
  "nbformat": 4,
  "nbformat_minor": 0
}